{
 "cells": [
  {
   "cell_type": "code",
   "execution_count": 1,
   "metadata": {},
   "outputs": [],
   "source": [
    "import os\n",
    "from transformers import MarianMTModel, MarianTokenizer, PegasusForConditionalGeneration, PegasusTokenizer"
   ]
  },
  {
   "cell_type": "markdown",
   "metadata": {},
   "source": [
    "**model_name_translation** = \"Helsinki-NLP/opus-mt-zh-en\"\n",
    "\n",
    "   **Purpose:**\n",
    "   - Specifies the name of the translation model.\n",
    "   - \"Helsinki-NLP/opus-mt-zh-en\" is a model from the Helsinki-NLP group in the Hugging Face Transformers library.\n",
    "   - opus-mt-zh-en indicates that the model is fine-tuned for translating from Chinese (zh) to English (en).\n",
    "\n",
    "   **Why?:**\n",
    "   - This string will be passed to Hugging Face’s `from_pretrained` method to load the pre-trained model and tokenizer.\n",
    "\n",
    "**tokenizer_translation** = MarianTokenizer.from_pretrained(model_name_translation)\n",
    "\n",
    "   **What It Does:**\n",
    "   - Initializes a tokenizer for the MarianMT (Marian Machine Translation) model.\n",
    "   - MarianTokenizer is a tokenizer designed specifically for MarianMT models. It:\n",
    "     1. **Encodes Input Text:** Converts Chinese text into token IDs that the model understands.\n",
    "     2. **Decodes Output Text:** Converts the model’s output token IDs back into readable English text.\n",
    "   - The `from_pretrained(model_name_translation)` method loads the tokenizer’s vocabulary and configuration for this specific model (Helsinki-NLP/opus-mt-zh-en) from the Hugging Face model hub.\n",
    "\n",
    "   **Why?:**\n",
    "   - Tokenization is a crucial preprocessing step for any NLP model. For translation, the tokenizer ensures:\n",
    "     - Chinese text is tokenized in a way that aligns with the model’s training.\n",
    "     - The model can generate appropriate English text during decoding.\n",
    "\n",
    "**model_translation** = MarianMTModel.from_pretrained(model_name_translation)\n",
    "\n",
    "   **What It Does:**\n",
    "   - Loads the pre-trained MarianMT model for Chinese-to-English translation.\n",
    "   - MarianMTModel is a class specifically designed for MarianMT models in the Hugging Face Transformers library. It provides:\n",
    "     - The encoder-decoder architecture required for translation tasks.\n",
    "     - The model weights fine-tuned on Chinese-to-English translation data.\n",
    "\n",
    "   **Why?:**\n",
    "   - The `from_pretrained` method ensures that the exact architecture and weights corresponding to the Helsinki-NLP/opus-mt-zh-en model are loaded, so it can perform translations accurately."
   ]
  },
  {
   "cell_type": "code",
   "execution_count": null,
   "metadata": {},
   "outputs": [
    {
     "data": {
      "application/vnd.jupyter.widget-view+json": {
       "model_id": "165960f3254141499b795fc74a77fa29",
       "version_major": 2,
       "version_minor": 0
      },
      "text/plain": [
       "tokenizer_config.json:   0%|          | 0.00/44.0 [00:00<?, ?B/s]"
      ]
     },
     "metadata": {},
     "output_type": "display_data"
    },
    {
     "data": {
      "application/vnd.jupyter.widget-view+json": {
       "model_id": "a3b15fe1d1cf4ec38c92bbdd1e602e06",
       "version_major": 2,
       "version_minor": 0
      },
      "text/plain": [
       "source.spm:   0%|          | 0.00/805k [00:00<?, ?B/s]"
      ]
     },
     "metadata": {},
     "output_type": "display_data"
    },
    {
     "data": {
      "application/vnd.jupyter.widget-view+json": {
       "model_id": "f1826524a269463099fec5022b882cc2",
       "version_major": 2,
       "version_minor": 0
      },
      "text/plain": [
       "target.spm:   0%|          | 0.00/807k [00:00<?, ?B/s]"
      ]
     },
     "metadata": {},
     "output_type": "display_data"
    },
    {
     "data": {
      "application/vnd.jupyter.widget-view+json": {
       "model_id": "3c9a0b52d44642f7a38a77ed438cd345",
       "version_major": 2,
       "version_minor": 0
      },
      "text/plain": [
       "vocab.json:   0%|          | 0.00/1.62M [00:00<?, ?B/s]"
      ]
     },
     "metadata": {},
     "output_type": "display_data"
    },
    {
     "data": {
      "application/vnd.jupyter.widget-view+json": {
       "model_id": "10f656ab49aa47c28eb230976ee71e93",
       "version_major": 2,
       "version_minor": 0
      },
      "text/plain": [
       "config.json:   0%|          | 0.00/1.39k [00:00<?, ?B/s]"
      ]
     },
     "metadata": {},
     "output_type": "display_data"
    },
    {
     "data": {
      "application/vnd.jupyter.widget-view+json": {
       "model_id": "41c34110ebbe4d19887378696aa7a5c1",
       "version_major": 2,
       "version_minor": 0
      },
      "text/plain": [
       "pytorch_model.bin:   0%|          | 0.00/312M [00:00<?, ?B/s]"
      ]
     },
     "metadata": {},
     "output_type": "display_data"
    },
    {
     "data": {
      "application/vnd.jupyter.widget-view+json": {
       "model_id": "ba328e918e8041a2a5227065c7a2ee99",
       "version_major": 2,
       "version_minor": 0
      },
      "text/plain": [
       "generation_config.json:   0%|          | 0.00/293 [00:00<?, ?B/s]"
      ]
     },
     "metadata": {},
     "output_type": "display_data"
    }
   ],
   "source": [
    "# Define the model name\n",
    "model_name_translation = \"Helsinki-NLP/opus-mt-zh-en\"\n",
    "\n",
    "# Load the tokenizer and model\n",
    "tokenizer_translation = MarianTokenizer.from_pretrained(model_name_translation)\n",
    "model_translation = MarianMTModel.from_pretrained(model_name_translation)"
   ]
  },
  {
   "cell_type": "markdown",
   "metadata": {},
   "source": [
    "#### MarianMTModel.from_pretrained(model_name_translation)\n",
    "\n",
    "is responsible for loading the model weights into memory. Upon successful completion, it will trigger a `pytorch_model.bin` file to be stored **locally** on your computer.\n",
    "\n",
    "When downloading a pre-trained model from Hugging Face's transformers library (or similar), the file is cached locally in your home directory at `~/.cache/huggingface/transformers/`. Within this directory, subdirectories are created for each model based on its name or repository.\n",
    "\n",
    "If you specify a custom path when downloading or saving the model (e.g., `model.save_pretrained('custom_path')`), the file will be stored in that specified directory.\n",
    "\n",
    "Once downloaded, the file remains on your disk and is reused whenever you load the model again, unless you manually delete it.\n",
    "\n",
    "#### Managing Storage:\n",
    "\n",
    "- **Clear Cache:** You can clear unused models from the cache if you need to free up space:\n",
    "  ```bash\n",
    "  huggingface-cli cache delete\n",
    "\n",
    "- **Move to External Drive:**  You can also move the cache directory to an external drive or another location by setting the TRANSFORMERS_CACHE environment variable:\n",
    "  ```bash\n",
    "  export TRANSFORMERS_CACHE=/path/to/your/custom/location\n",
    "  \n"
   ]
  },
  {
   "cell_type": "code",
   "execution_count": 3,
   "metadata": {},
   "outputs": [
    {
     "name": "stdout",
     "output_type": "stream",
     "text": [
      "Translated text: Hello, world!\n"
     ]
    }
   ],
   "source": [
    "# Example text to translate (Chinese)\n",
    "text_to_translate = \"你好，世界！\"  # \"Hello, world!\"\n",
    "\n",
    "# Preprocess: Tokenize the text\n",
    "input_tokens = tokenizer_translation(text_to_translate, return_tensors=\"pt\", padding=True, truncation=True)\n",
    "\n",
    "# Translate: Generate predictions\n",
    "translated_tokens = model_translation.generate(**input_tokens)\n",
    "\n",
    "# Postprocess: Decode the output tokens to readable English\n",
    "translated_text = tokenizer_translation.decode(translated_tokens[0], skip_special_tokens=True)\n",
    "\n",
    "print(f\"Translated text: {translated_text}\")"
   ]
  },
  {
   "cell_type": "code",
   "execution_count": 9,
   "metadata": {},
   "outputs": [
    {
     "name": "stdout",
     "output_type": "stream",
     "text": [
      "Translation completed. Translated text saved to '../data/translated_text.txt'.\n"
     ]
    }
   ],
   "source": [
    "# Input and output file paths\n",
    "input_file = \"../data/trial_text.txt\"  # File containing Chinese text (one line per sentence)\n",
    "output_file = \"../data/translated_text.txt\"  # File to save the English translations\n",
    "\n",
    "# Read the input file and translate each line\n",
    "try:\n",
    "    with open(input_file, \"r\", encoding=\"utf-8\") as infile, open(output_file, \"w\", encoding=\"utf-8\") as outfile:\n",
    "        for line in infile:\n",
    "            # Remove leading/trailing whitespaces\n",
    "            line = line.strip()\n",
    "\n",
    "            # Skip empty lines\n",
    "            if not line:\n",
    "                continue\n",
    "\n",
    "            # Tokenize the input text\n",
    "            input_tokens = tokenizer_translation(line, return_tensors=\"pt\", padding=True, truncation=True)\n",
    "\n",
    "            # Generate translation\n",
    "            translated_tokens = model_translation.generate(**input_tokens)\n",
    "\n",
    "            # Decode the translated tokens to English text\n",
    "            translated_text = tokenizer_translation.decode(translated_tokens[0], skip_special_tokens=True)\n",
    "\n",
    "            # Write the translated text to the output file\n",
    "            outfile.write(translated_text + \"\\n\")\n",
    "\n",
    "    print(f\"Translation completed. Translated text saved to '{output_file}'.\")\n",
    "except Exception as e:\n",
    "    print(f\"An error occurred: {e}\")"
   ]
  },
  {
   "cell_type": "markdown",
   "metadata": {},
   "source": [
    "`PEGASUS` (Pre-training with Extracted Gap-sentences for Abstractive Summarization) is a transformer model developed by Google.\n",
    "\t\n",
    "The `xsum` fine-tuning makes it particularly suitable for generating single-sentence summaries.\n",
    "\n",
    "The tokenizer converts input text into token IDs (numerical representations) that the model can understand."
   ]
  },
  {
   "cell_type": "code",
   "execution_count": null,
   "metadata": {},
   "outputs": [
    {
     "data": {
      "application/vnd.jupyter.widget-view+json": {
       "model_id": "263806a4b75440708361c2562866052a",
       "version_major": 2,
       "version_minor": 0
      },
      "text/plain": [
       "tokenizer_config.json:   0%|          | 0.00/87.0 [00:00<?, ?B/s]"
      ]
     },
     "metadata": {},
     "output_type": "display_data"
    },
    {
     "data": {
      "application/vnd.jupyter.widget-view+json": {
       "model_id": "b272a9ec041e48c699eb78495064418e",
       "version_major": 2,
       "version_minor": 0
      },
      "text/plain": [
       "spiece.model:   0%|          | 0.00/1.91M [00:00<?, ?B/s]"
      ]
     },
     "metadata": {},
     "output_type": "display_data"
    },
    {
     "data": {
      "application/vnd.jupyter.widget-view+json": {
       "model_id": "e44f7b8ef0e34c51886e5ac3c6b0d39e",
       "version_major": 2,
       "version_minor": 0
      },
      "text/plain": [
       "special_tokens_map.json:   0%|          | 0.00/65.0 [00:00<?, ?B/s]"
      ]
     },
     "metadata": {},
     "output_type": "display_data"
    },
    {
     "data": {
      "application/vnd.jupyter.widget-view+json": {
       "model_id": "da88e9e52b7a4949ba5ff644d2ac1d1f",
       "version_major": 2,
       "version_minor": 0
      },
      "text/plain": [
       "tokenizer.json:   0%|          | 0.00/3.52M [00:00<?, ?B/s]"
      ]
     },
     "metadata": {},
     "output_type": "display_data"
    },
    {
     "data": {
      "application/vnd.jupyter.widget-view+json": {
       "model_id": "92ab5d8e806b49fb98052a20ad5e812d",
       "version_major": 2,
       "version_minor": 0
      },
      "text/plain": [
       "config.json:   0%|          | 0.00/1.39k [00:00<?, ?B/s]"
      ]
     },
     "metadata": {},
     "output_type": "display_data"
    },
    {
     "data": {
      "application/vnd.jupyter.widget-view+json": {
       "model_id": "5f72c78b114d40cf8391f46686fa6512",
       "version_major": 2,
       "version_minor": 0
      },
      "text/plain": [
       "pytorch_model.bin:   0%|          | 0.00/2.28G [00:00<?, ?B/s]"
      ]
     },
     "metadata": {},
     "output_type": "display_data"
    },
    {
     "name": "stderr",
     "output_type": "stream",
     "text": [
      "Some weights of PegasusForConditionalGeneration were not initialized from the model checkpoint at google/pegasus-xsum and are newly initialized: ['model.decoder.embed_positions.weight', 'model.encoder.embed_positions.weight']\n",
      "You should probably TRAIN this model on a down-stream task to be able to use it for predictions and inference.\n"
     ]
    },
    {
     "data": {
      "application/vnd.jupyter.widget-view+json": {
       "model_id": "607848c2bf93496a948290e5f779427c",
       "version_major": 2,
       "version_minor": 0
      },
      "text/plain": [
       "generation_config.json:   0%|          | 0.00/259 [00:00<?, ?B/s]"
      ]
     },
     "metadata": {},
     "output_type": "display_data"
    }
   ],
   "source": [
    "# Define the model name\n",
    "model_name_summary = \"google/pegasus-xsum\"\n",
    "\n",
    "# Load the tokenizer and model\n",
    "tokenizer_summary = PegasusTokenizer.from_pretrained(model_name_summary)\n",
    "model_summary = PegasusForConditionalGeneration.from_pretrained(model_name_summary)"
   ]
  },
  {
   "cell_type": "code",
   "execution_count": 10,
   "metadata": {},
   "outputs": [
    {
     "name": "stdout",
     "output_type": "stream",
     "text": [
      "Original: League of Nations securities: investing in business as an important growth point in the transformation of wealth management operations\n",
      "Summary: In our series of letters from African journalists, filmmaker and columnist Ahmedou Ould-Abdallah looks at some of the key stories of the week in the world of finance.\n",
      "--------------------------------------------------\n",
      "Original: The party's 20-year report stresses that “common wealth is the essence of socialism in China’s identity.” The management of wealth, as an important hub for the allocation of capital elements, has a direct impact on the property income of the population and plays an important role in promoting common wealth. Exploring trends in wealth management operations, optimizing the distribution of wealth among the population, and achieving the preservation, value addition and transmission of the wealth of the population, is the driving force and historical mission of the wealth management bodies.\n",
      "Summary: The Communist Party of China (CPC) has set up a series of wealth management bodies, including the National Development and Reform Commission (NDRC), the State Administration of Taxation (SAT) and the National Development and Reform Commission (NDRC).\n",
      "--------------------------------------------------\n",
      "Original: In 2022, the country's wealth chain generated $1.5 trillion, based on reports from China, which generated income of $500 million, $70.71 billion, $614.5 billion, $75.8 billion, $111.4 billion, respectively, from investment, sales and capital management. As a result, the country's wealth chain is now the main source of revenue generation in the wealth chain.\n",
      "Summary: China's wealth chain has become the world's largest, according to a report from the World Economic Forum.\n",
      "--------------------------------------------------\n",
      "Original: History of the development of our wealth management business\n",
      "Summary: A look back at some of the key moments in the history of Aberdeen Asset Management, which was formed in the wake of the financial crisis.\n",
      "--------------------------------------------------\n",
      "Original: First, the budding phase.\n",
      "Summary: The BBC News website looks at some of the most striking images from this year's Glastonbury Festival, which took place in Somerset on Saturday.\n",
      "--------------------------------------------------\n",
      "Original: In the 1990s, the Government began to issue treasury bills to society in order to finance the strengthening of the economy as a result of reforms and opening up. In 1988, the Ministry of Finance ' s Pilot Implementation Programme for Open Trench Transfer Markets led to the opening of public treasury bills for market transactions. In 1990, the capital market began to develop rapidly. On 12 October 1990, the Chengzhou Commodity Exchange was established, and in May 1993, futures were officially introduced.\n",
      "Summary: China's financial markets began to develop in the 1980s as a result of the opening up of the economy.\n",
      "--------------------------------------------------\n",
      "Original: This period has been accompanied by a steady increase in the standard of living and a gradual increase in the financial needs of the population. In 1991, the country's first nation-wide, integrated equity insurance company was established. In 1998, our first fund management company was created. In 2001, our first open fund was established. In 2004, the first bank regulated the issuance of property.\n",
      "Summary: The financial services sector in the Democratic Republic of Congo has grown rapidly since the country gained independence from France in 1960.\n",
      "--------------------------------------------------\n",
      "Original: This was followed by a rapid increase in the scale of wealth management and a rise in banking governance.\n",
      "Summary: The rise of the banking sector in the UK in the 1960s and 1970s was driven by the expansion of the commercial banking sector and the growth of the money market.\n",
      "--------------------------------------------------\n",
      "Original: The introduction of the Securities and Investment Fund Act in 2004 has led to a significant improvement in the legal regulation of the Fund and to the innovation of the Fund's products, with the creation of the LOF Fund, the ETF Fund, the QDII Fund. The stock market “Cow Market” situation in 2006-2007 has also provided a cross-cutting development of the Fund, which at the end of 2007 stood at $327,559 million, an increase of almost six times over two years.\n",
      "Summary: The Cayman Islands Stock Exchange Fund (QDII) is the only stock market fund in the world to be regulated by the Cayman Islands Monetary Authority.\n",
      "--------------------------------------------------\n",
      "Original: Following the 2008 global financial crisis, the size of equity-based fund management was affected by a significant restructuring of the stock market, with the Fund sector moving into a steady period of development.\n",
      "Summary: The Fund sector is one of the fastest-growing areas of the UK financial services sector.\n",
      "--------------------------------------------------\n",
      "Original: In response to the 2008 global financial crisis, the country introduced an economic stimulus package, with large-scale credit expansion. Banks circumvented capital occupancy and credit scale statistics by regulating arbitrage in order to meet the demands of a thriving entity’s economic financing needs and capital adequacy.\n",
      "Summary: China’s banking sector has grown rapidly in recent years, driven by the country’s strong economic growth and the expansion of its middle class.\n",
      "--------------------------------------------------\n",
      "Original: At present, in the new phase of wealth management, the management business returns to its source.\n",
      "Summary: The Swiss private banking and wealth management sector is in the midst of a major transformation.\n",
      "--------------------------------------------------\n",
      "Original: In 2018, the Guidance on the Regulation of Asset Management in Financial Institutions was issued, and the financial sector ushered in a new era of large-scale financial management.\n",
      "Summary: The Financial Conduct Authority (FCA) has published a series of updates to its guidance on the regulation of the asset management industry.\n",
      "--------------------------------------------------\n",
      "Original: In 2019, the CSRC issued a circular on the completion of pilot work for investment advisers of public equity investment funds, which marked the official arrival of our capital investment pilot and the opening of the buyer ' s investment model in China. As of 30 September 2023, 58 institutions, 28 of them subsidiaries and 30 securities companies and subsidiaries, were eligible to invest in capital markets based on the standard network fund ' s operating code.\n",
      "Summary: The China Securities Regulatory Commission (CSRC) has launched a capital investment pilot scheme for investment advisers of public equity investment funds.\n",
      "--------------------------------------------------\n",
      "Original: As a result, the country's wealth management has entered a new phase, with a more sophisticated chain of industries. The regulatory system has been restructured, Internet finance has become widely available, index funds and low-cost management products such as ETFs have flourished, buyers have invested in the development of their businesses, together with various financial operations such as brokerage, tax planning, consumer finance, inheritance, and loan deposits, creating new types of general wealth management operations and widening the product lines of wealth management operations.\n",
      "Summary: In recent years, China's wealth management industry has seen a dramatic change in the way it operates, with the country's financial sector undergoing a profound transformation.\n",
      "--------------------------------------------------\n",
      "Original: Limitations and deficiencies in our wealth management operations\n",
      "Summary: The UK's Financial Conduct Authority (FCA) has said it is \"dismayed\" by the way the UK's financial services sector has been run in recent years.\n",
      "--------------------------------------------------\n",
      "Original: First, “funds don't make money for their own people”.\n",
      "Summary: In a BBC interview, the head of the UK's National Health Service (NHS), Jeremy Hunt, has defended the NHS's use of private health funds, saying: “I don't think it's a good idea.”\n",
      "--------------------------------------------------\n",
      "Original: In comparison with developed countries, our capital market has a relatively high share of individual investors, with nearly half of our clients being private investors, while individual investors may lack the necessary expertise and be vulnerable to emotional fluctuations that lead to higher and lower returns on investment. According to the Survey of the Situation of Investors in the National Public Fund Markets (2020), private investors are risky in purchasing public funds and have irrational behaviors that promote volatility in the market.\n",
      "Summary: Private investors have a significant impact on the performance of the stock market in Colombia.\n",
      "--------------------------------------------------\n",
      "Original: Secondly, there is intense competition for product homogenization.\n",
      "Summary: First of all, homogenization is a very difficult and time-consuming process to perform.\n",
      "--------------------------------------------------\n",
      "Original: In recent years, our multilayered capital market system has been very effective, with a growing variety of investments, but the variety of investments in wealth management continues to be more homogeneous, taking into account investors’ overall conservative investment preferences, which focus mainly on a few highly liquid assets, such as deposits, bonds, equities, etc. The product homogenization of different distribution channels is stronger, the business model is highly homogeneous, and the industry has not yet fully developed its comparative advantages and has not yet developed a good ecosystem for the cooperative development of the industry.\n",
      "Summary: The wealth management industry in China is still in its early stages of development.\n",
      "--------------------------------------------------\n",
      "Original: Finally, there is a shortage of specialized personnel.\n",
      "Summary: There is a shortage of nurses in the UK, which is affecting the delivery of care to patients.\n",
      "--------------------------------------------------\n",
      "Original: With the development and spread of wealth management markets, wealth management clients have become more demanding in terms of age and diversity in wealth management, which places higher demands on the professionalism of the employees of wealth management bodies, and the industry is facing a development bottleneck in the lack of talent. Advanced wealth management talent needs to build up basic theoretical knowledge of law, taxation, finance, etc., to provide clients with a wide range of services, deep programmes, and warm communication, and to gain experience in practice.\n",
      "Summary: The wealth management industry in China has grown rapidly in recent years, and the number of professional wealth managers has increased significantly.\n",
      "--------------------------------------------------\n",
      "Original: Investing in business is an important growth point in the transformation of wealth management operations\n",
      "Summary: In our series of letters from African journalists, filmmaker and columnist Farai Sevenzo looks at some of the key issues facing the continent's wealth management industry.\n",
      "--------------------------------------------------\n",
      "Original: Ignoring business improves irrational behaviour at the end of wealth management investments.\n",
      "Summary: A new study has found that people who invest their wealth in companies that do not do well in the market are more likely to be pessimists than optimists.\n",
      "--------------------------------------------------\n",
      "Original: The buyer’s investment emphasis is on customer-centred knowledge of customer investment needs and the provision of customized wealth planning and asset allocation services by distinguishing between clients’ risk preferences and investment management objectives. The investment is built on a process-wide basis, directly affecting the client community, with full-process accompanying services such as proper customer management, teaching, decision-making on the number and timing of specific fund investment types on behalf of clients, optimizing investment management and allocation, encouraging clients to reduce irrational investment decisions, leading customers to make long-term investment decisions, and ultimately promoting high-quality capital market development.\n",
      "Summary: A buyer’s investment is a type of investment that is built on a process-wide basis, directly affecting the client community, with full-process accompanying services such as proper customer management, teaching, decision-making on the number and timing\n",
      "--------------------------------------------------\n",
      "Original: Investing in business can provide differentiated portfolio investment advice.\n",
      "Summary: Investing in businesses can be a great way to diversify your portfolios and increase your returns.\n",
      "--------------------------------------------------\n",
      "Original: Investing in business is a bridge between client-specific demand and product-specific configuration services that can provide a unique wealth-management programme with thousands of people, effectively exploring the matching of multi-asset, multi-strategy portfolio investment with the good dynamics of client demand. Investing in portfolio strategy is designed to adapt to changing wealth management needs of the population, creating a rich pool of strategy through a parallel model of “pre-set strategy plus exclusive strategy” that allows product labels to be accurately matched to client portraits and applied to diverse scenarios.\n",
      "Summary: Investing in business and investing in portfolio strategy are two approaches to wealth management that have the potential to transform the way people manage their wealth.\n",
      "--------------------------------------------------\n",
      "Original: Investing in business effectively serves local wealth businesses.\n",
      "Summary: Investing in business is a good way to build wealth, but how do you know if it's right for you?\n",
      "--------------------------------------------------\n",
      "Original: In recent years, there has been a “dividualization” of business continuity, up-to-date, intelligent and professionalization, and continuous innovation and deepening of service forms and service content. In the form of services, they have been further refined and promoted through APP, micro-message, public distribution, and Internet platform collaboration. In terms of service content, innovative research methods have been developed to enhance cross-practice research, value for investment, and quality of education.\n",
      "Summary: In the past few decades, the development of China’s information and communication technology (ICT) industry has undergone a profound transformation.\n",
      "--------------------------------------------------\n",
      "Original: The future: the direction of wealth management operations\n",
      "Summary: A look at some of the key stories in the world of wealth management this week.\n",
      "--------------------------------------------------\n",
      "Original: The focus of wealth management operations is to create value for customers, and the rates of wealth management agencies should match the value they create for customers. Through wealth management operations, the following three directions can be considered: increase the rate of return on their investments, reduce the cost of investments (including the cost of service rates, time costs and the loss of irrational investments, etc.) and improve the investment experience of clients.\n",
      "Summary: The rate of return of wealth management agencies should be linked to the rate of return of their customers' investments.\n",
      "--------------------------------------------------\n",
      "Original: Production shelves are enriched and output gains are higher in investment decisions.\n",
      "Summary: The European Commission's latest assessment of the EU's economic prospects shows that the bloc's economic recovery is gathering pace, but it is not yet strong enough to offset the impact of the euro's depreciation.\n",
      "--------------------------------------------------\n",
      "Original: Improving client returns on investment is at the heart of the wealth management business, and the test is the proactive management capacity of wealth management agencies. Rationally controlling the size of product management, without expanding beyond capacity margins, can better guarantee investment performance.\n",
      "Summary: This paper looks at the challenges and opportunities facing the UK wealth management industry.\n",
      "--------------------------------------------------\n",
      "Original: Attracting capital inflows through scale effects and working with industrial chains to reduce investment costs.\n",
      "Summary: The UK's Department for International Development (DFID) is working with the UK's Department of Energy and Climate Change (DECC) and the UK's Department for Business, Innovation and Skills (BIS) to develop new ways\n",
      "--------------------------------------------------\n",
      "Original: Small and medium-sized wealth management institutions, in the head-to-head process, quickly capture target group and AUM growth through low rates, with a scale effect. Through appropriate institutional arrangements and incentives, they share values with internal lines of business (e.g. wealth, business, investment, etc.) to generate multi-dimensional income and reduce the cost of customer investment.\n",
      "Summary: The financial services sector is experiencing a wave of growth, driven by a growing number of small and medium-sized firms.\n",
      "--------------------------------------------------\n",
      "Original: Increased investment in human resources and scientific and technological investment.\n",
      "Summary: The government has announced plans to increase spending on science, technology, engineering and maths (STEM) by 3.9% over the next five years, bringing the total increase in spending over the past decade to 8.5%.\n",
      "--------------------------------------------------\n",
      "Original: By its very nature, wealth management is ‘people’s’ business, and talent is a bridge between markets and customers, and the most important resource for improving customer investment experiences. The future of wealth management will inevitably require investment in a wealth pool that can provide structured services to clients.\n",
      "Summary: The future of wealth management will require investment in a wealth pool that can provide structured services to clients.\n",
      "--------------------------------------------------\n",
      "Total Execution Time: 145.17 seconds\n"
     ]
    }
   ],
   "source": [
    "import timeit \n",
    "# Input file path\n",
    "input_file = \"../data/translated_text.txt\"  # File containing text to summarize\n",
    "\n",
    "# Function to summarize the text\n",
    "def summarize_file():\n",
    "    try:\n",
    "        with open(input_file, \"r\", encoding=\"utf-8\") as infile:\n",
    "            for line in infile:\n",
    "                # Strip leading/trailing whitespaces\n",
    "                line = line.strip()\n",
    "\n",
    "                # Skip empty lines\n",
    "                if not line:\n",
    "                    continue\n",
    "\n",
    "                # Tokenize the input text\n",
    "                inputs = tokenizer_summary(line, return_tensors=\"pt\", max_length=1024, truncation=True)\n",
    "\n",
    "                # Generate the summary\n",
    "                summary_ids = model_summary.generate(inputs[\"input_ids\"], max_length=50, min_length=10, length_penalty=2.0, num_beams=4, early_stopping=True)\n",
    "\n",
    "                # Decode the summary and print it\n",
    "                summary = tokenizer_summary.decode(summary_ids[0], skip_special_tokens=True)\n",
    "                print(f\"Original: {line}\")\n",
    "                print(f\"Summary: {summary}\")\n",
    "                print(\"-\" * 50)\n",
    "    except Exception as e:\n",
    "        print(f\"An error occurred: {e}\")\n",
    "\n",
    "# Measure the execution time using timeit\n",
    "execution_time = timeit.timeit(summarize_file, number=1)\n",
    "print(f\"Total Execution Time: {execution_time:.2f} seconds\")"
   ]
  },
  {
   "cell_type": "code",
   "execution_count": 11,
   "metadata": {},
   "outputs": [
    {
     "name": "stdout",
     "output_type": "stream",
     "text": [
      "Original: League of Nations securities: investing in business as an important growth point in the transformation of wealth management operations\n",
      "The party's 20-year report stresses that “common wealth is the essence of socialism in China’s identity.” The management of wealth, as an important hub for the allocation of capital elements, has a direct impact on the property income of the population and plays an important role in promoting common wealth. Exploring trends in wealth management operations, optimizing the distribution of wealth among the population, and achieving the preservation, value addition and transmission of the wealth of the population, is the driving force and historical mission of the wealth management bodies.\n",
      "In 2022, the country's wealth chain generated $1.5 trillion, based on reports from China, which generated income of $500 million, $70.71 billion, $614.5 billion, $75.8 billion, $111.4 billion, respectively, from investment, sales and capital management.\n",
      "Summary: China's Communist Party has outlined its vision for the country's wealth management system in its annual report on the economy.\n",
      "--------------------------------------------------\n",
      "Original: As a result, the country's wealth chain is now the main source of revenue generation in the wealth chain.\n",
      "History of the development of our wealth management business\n",
      "First, the budding phase.\n",
      "In the 1990s, the Government began to issue treasury bills to society in order to finance the strengthening of the economy as a result of reforms and opening up. In 1988, the Ministry of Finance ' s Pilot Implementation Programme for Open Trench Transfer Markets led to the opening of public treasury bills for market transactions. In 1990, the capital market began to develop rapidly. On 12 October 1990, the Chengzhou Commodity Exchange was established, and in May 1993, futures were officially introduced.\n",
      "This period has been accompanied by a steady increase in the standard of living and a gradual increase in the financial needs of the population. In 1991, the country's first nation-wide, integrated equity insurance company was established. In 1998, our first fund management company was created.\n",
      "Summary: The wealth management industry in China has developed rapidly over the past 20 years, and has become a major source of income for the country's people.\n",
      "--------------------------------------------------\n",
      "Original: In 2001, our first open fund was established. In 2004, the first bank regulated the issuance of property.\n",
      "This was followed by a rapid increase in the scale of wealth management and a rise in banking governance.\n",
      "The introduction of the Securities and Investment Fund Act in 2004 has led to a significant improvement in the legal regulation of the Fund and to the innovation of the Fund's products, with the creation of the LOF Fund, the ETF Fund, the QDII Fund.\n",
      "Summary: The creation of the Qatar Investment Authority (QDII) in 1999 was the beginning of a period of significant change in the regulation of the financial markets in Qatar.\n",
      "--------------------------------------------------\n",
      "Original: The stock market “Cow Market” situation in 2006-2007 has also provided a cross-cutting development of the Fund, which at the end of 2007 stood at $327,559 million, an increase of almost six times over two years.\n",
      "Following the 2008 global financial crisis, the size of equity-based fund management was affected by a significant restructuring of the stock market, with the Fund sector moving into a steady period of development.\n",
      "In response to the 2008 global financial crisis, the country introduced an economic stimulus package, with large-scale credit expansion.\n",
      "Summary: China's National Fund for Agriculture and Rural Development has seen a significant increase in its assets under management (AUM) over the past five years, driven by the country's economic growth and the expansion of its agricultural sector.\n",
      "--------------------------------------------------\n",
      "Original: Banks circumvented capital occupancy and credit scale statistics by regulating arbitrage in order to meet the demands of a thriving entity’s economic financing needs and capital adequacy.\n",
      "At present, in the new phase of wealth management, the management business returns to its source.\n",
      "In 2018, the Guidance on the Regulation of Asset Management in Financial Institutions was issued, and the financial sector ushered in a new era of large-scale financial management.\n",
      "In 2019, the CSRC issued a circular on the completion of pilot work for investment advisers of public equity investment funds, which marked the official arrival of our capital investment pilot and the opening of the buyer ' s investment model in China.\n",
      "Summary: In the past, China's financial sector was dominated by a small number of banks and financial institutions, and the management of their assets and liabilities was the responsibility of the state.\n",
      "--------------------------------------------------\n",
      "Original: As of 30 September 2023, 58 institutions, 28 of them subsidiaries and 30 securities companies and subsidiaries, were eligible to invest in capital markets based on the standard network fund ' s operating code.\n",
      "As a result, the country's wealth management has entered a new phase, with a more sophisticated chain of industries.\n",
      "Summary: The number of financial institutions in Romania has increased significantly over the past five years, according to the country's central bank.\n",
      "--------------------------------------------------\n",
      "Original: The regulatory system has been restructured, Internet finance has become widely available, index funds and low-cost management products such as ETFs have flourished, buyers have invested in the development of their businesses, together with various financial operations such as brokerage, tax planning, consumer finance, inheritance, and loan deposits, creating new types of general wealth management operations and widening the product lines of wealth management operations.\n",
      "Limitations and deficiencies in our wealth management operations\n",
      "First, “funds don't make money for their own people”.\n",
      "In comparison with developed countries, our capital market has a relatively high share of individual investors, with nearly half of our clients being private investors, while individual investors may lack the necessary expertise and be vulnerable to emotional fluctuations that lead to higher and lower returns on investment.\n",
      "Summary: The wealth management industry in China has undergone a major transformation over the past few years.\n",
      "--------------------------------------------------\n",
      "Original: According to the Survey of the Situation of Investors in the National Public Fund Markets (2020), private investors are risky in purchasing public funds and have irrational behaviors that promote volatility in the market.\n",
      "Secondly, there is intense competition for product homogenization.\n",
      "In recent years, our multilayered capital market system has been very effective, with a growing variety of investments, but the variety of investments in wealth management continues to be more homogeneous, taking into account investors’ overall conservative investment preferences, which focus mainly on a few highly liquid assets, such as deposits, bonds, equities, etc.\n",
      "Summary: Private investors continue to have a negative impact on the performance of public funds, despite the fact that they account for less than 5% of total assets under management.\n",
      "--------------------------------------------------\n",
      "Original: The product homogenization of different distribution channels is stronger, the business model is highly homogeneous, and the industry has not yet fully developed its comparative advantages and has not yet developed a good ecosystem for the cooperative development of the industry.\n",
      "Finally, there is a shortage of specialized personnel.\n",
      "With the development and spread of wealth management markets, wealth management clients have become more demanding in terms of age and diversity in wealth management, which places higher demands on the professionalism of the employees of wealth management bodies, and the industry is facing a development bottleneck in the lack of talent.\n",
      "Summary: China's wealth management industry has developed rapidly in recent years, but there are still many difficulties in the development of the industry.\n",
      "--------------------------------------------------\n",
      "Original: Advanced wealth management talent needs to build up basic theoretical knowledge of law, taxation, finance, etc., to provide clients with a wide range of services, deep programmes, and warm communication, and to gain experience in practice.\n",
      "Investing in business is an important growth point in the transformation of wealth management operations\n",
      "Ignoring business improves irrational behaviour at the end of wealth management investments.\n",
      "The buyer’s investment emphasis is on customer-centred knowledge of customer investment needs and the provision of customized wealth planning and asset allocation services by distinguishing between clients’ risk preferences and investment management objectives.\n",
      "Summary: The buyer’s investment emphasis is on customer-centred knowledge of customer investment needs and the provision of customized wealth planning and asset allocation services by distinguishing between clients’ risk preferences and investment management objectives.\n",
      "--------------------------------------------------\n",
      "Original: The investment is built on a process-wide basis, directly affecting the client community, with full-process accompanying services such as proper customer management, teaching, decision-making on the number and timing of specific fund investment types on behalf of clients, optimizing investment management and allocation, encouraging clients to reduce irrational investment decisions, leading customers to make long-term investment decisions, and ultimately promoting high-quality capital market development.\n",
      "Investing in business can provide differentiated portfolio investment advice.\n",
      "Investing in business is a bridge between client-specific demand and product-specific configuration services that can provide a unique wealth-management programme with thousands of people, effectively exploring the matching of multi-asset, multi-strategy portfolio investment with the good dynamics of client demand.\n",
      "Summary: Investing in business is a multi-asset, multi-strategy portfolio investment programme that is designed to provide long-term, risk-adjusted returns for clients.\n",
      "--------------------------------------------------\n",
      "Original: Investing in portfolio strategy is designed to adapt to changing wealth management needs of the population, creating a rich pool of strategy through a parallel model of “pre-set strategy plus exclusive strategy” that allows product labels to be accurately matched to client portraits and applied to diverse scenarios.\n",
      "Investing in business effectively serves local wealth businesses.\n",
      "In recent years, there has been a “dividualization” of business continuity, up-to-date, intelligent and professionalization, and continuous innovation and deepening of service forms and service content. In the form of services, they have been further refined and promoted through APP, micro-message, public distribution, and Internet platform collaboration.\n",
      "Summary: Investing in portfolio strategy is designed to adapt to changing wealth management needs of the population, creating a rich pool of strategy through a parallel model of “pre-set strategy plus exclusive strategy” that allows product labels to be accurately matched to client portraits\n",
      "--------------------------------------------------\n",
      "Original: In terms of service content, innovative research methods have been developed to enhance cross-practice research, value for investment, and quality of education.\n",
      "The future: the direction of wealth management operations\n",
      "The focus of wealth management operations is to create value for customers, and the rates of wealth management agencies should match the value they create for customers. Through wealth management operations, the following three directions can be considered: increase the rate of return on their investments, reduce the cost of investments (including the cost of service rates, time costs and the loss of irrational investments, etc.) and improve the investment experience of clients.\n",
      "Production shelves are enriched and output gains are higher in investment decisions.\n",
      "Improving client returns on investment is at the heart of the wealth management business, and the test is the proactive management capacity of wealth management agencies.\n",
      "Summary: The research and development of wealth management agencies in China has been carried out by the Chinese Academy of Social Sciences, the Chinese Academy of Financial Sciences, the Chinese Academy of Management Sciences, the Chinese Academy of Engineering, the Chinese Academy of Social Sciences\n",
      "--------------------------------------------------\n",
      "Original: Rationally controlling the size of product management, without expanding beyond capacity margins, can better guarantee investment performance.\n",
      "Attracting capital inflows through scale effects and working with industrial chains to reduce investment costs.\n",
      "Small and medium-sized wealth management institutions, in the head-to-head process, quickly capture target group and AUM growth through low rates, with a scale effect. Through appropriate institutional arrangements and incentives, they share values with internal lines of business (e.g. wealth, business, investment, etc.) to generate multi-dimensional income and reduce the cost of customer investment.\n",
      "Increased investment in human resources and scientific and technological investment.\n",
      "By its very nature, wealth management is ‘people’s’ business, and talent is a bridge between markets and customers, and the most important resource for improving customer investment experiences.\n",
      "Summary: The wealth management industry has a number of levers it can use to improve its performance and attract capital.\n",
      "--------------------------------------------------\n",
      "Original: The future of wealth management will inevitably require investment in a wealth pool that can provide structured services to clients..\n",
      "Summary: The world of wealth management is undergoing a profound change.\n",
      "--------------------------------------------------\n",
      "Total Execution Time: 62.42 seconds\n"
     ]
    }
   ],
   "source": [
    "import textwrap\n",
    "import timeit\n",
    "\n",
    "# Input file path\n",
    "input_file = \"../data/translated_text.txt\"  # File containing text to summarize\n",
    "\n",
    "# Function to reorganize the text into paragraphs\n",
    "def reorganize_text(text, max_length=1024):\n",
    "    # Remove excessive whitespace and split into sentences\n",
    "    sentences = text.split(\". \")\n",
    "    paragraph = \"\"\n",
    "    paragraphs = []\n",
    "\n",
    "    for sentence in sentences:\n",
    "        # Add sentence to the current paragraph\n",
    "        if len(paragraph) + len(sentence) + 2 <= max_length:  # +2 accounts for \". \" separator\n",
    "            paragraph += sentence.strip() + \". \"\n",
    "        else:\n",
    "            # Save the current paragraph and start a new one\n",
    "            paragraphs.append(paragraph.strip())\n",
    "            paragraph = sentence.strip() + \". \"\n",
    "\n",
    "    # Add the last paragraph if not empty\n",
    "    if paragraph.strip():\n",
    "        paragraphs.append(paragraph.strip())\n",
    "\n",
    "    return paragraphs\n",
    "\n",
    "# Function to summarize the text\n",
    "def summarize_file():\n",
    "    try:\n",
    "        with open(input_file, \"r\", encoding=\"utf-8\") as infile:\n",
    "            raw_text = infile.read()\n",
    "\n",
    "        # Reorganize the text into paragraphs\n",
    "        paragraphs = reorganize_text(raw_text)\n",
    "\n",
    "        # Summarize each paragraph\n",
    "        for paragraph in paragraphs:\n",
    "            # Tokenize the input text\n",
    "            inputs = tokenizer_summary(paragraph, return_tensors=\"pt\", max_length=1024, truncation=True)\n",
    "\n",
    "            # Generate the summary\n",
    "            summary_ids = model_summary.generate(\n",
    "                inputs[\"input_ids\"], \n",
    "                max_length=50, \n",
    "                min_length=10, \n",
    "                length_penalty=2.0, \n",
    "                num_beams=4, \n",
    "                early_stopping=True\n",
    "            )\n",
    "\n",
    "            # Decode the summary and print it\n",
    "            summary = tokenizer_summary.decode(summary_ids[0], skip_special_tokens=True)\n",
    "            print(f\"Original: {paragraph}\")\n",
    "            print(f\"Summary: {summary}\")\n",
    "            print(\"-\" * 50)\n",
    "    except Exception as e:\n",
    "        print(f\"An error occurred: {e}\")\n",
    "\n",
    "# Measure the execution time using timeit\n",
    "execution_time = timeit.timeit(summarize_file, number=1)\n",
    "print(f\"Total Execution Time: {execution_time:.2f} seconds\")"
   ]
  },
  {
   "cell_type": "code",
   "execution_count": 12,
   "metadata": {},
   "outputs": [
    {
     "name": "stdout",
     "output_type": "stream",
     "text": [
      "Combined Summary:\n",
      "China's Communist Party has outlined its vision for the country's wealth management system in its annual report on the economy. The wealth management industry in China has developed rapidly over the past 20 years, and has become a major source of income for the country's people. The creation of the Qatar Investment Authority (QDII) in 1999 was the beginning of a period of significant change in the regulation of the financial markets in Qatar. China's National Fund for Agriculture and Rural Development has seen a significant increase in its assets under management (AUM) over the past five years, driven by the country's economic growth and the expansion of its agricultural sector. In the past, China's financial sector was dominated by a small number of banks and financial institutions, and the management of their assets and liabilities was the responsibility of the state. The number of financial institutions in Romania has increased significantly over the past five years, according to the country's central bank. The wealth management industry in China has undergone a major transformation over the past few years. Private investors continue to have a negative impact on the performance of public funds, despite the fact that they account for less than 5% of total assets under management. China's wealth management industry has developed rapidly in recent years, but there are still many difficulties in the development of the industry. The buyer’s investment emphasis is on customer-centred knowledge of customer investment needs and the provision of customized wealth planning and asset allocation services by distinguishing between clients’ risk preferences and investment management objectives. Investing in business is a multi-asset, multi-strategy portfolio investment programme that is designed to provide long-term, risk-adjusted returns for clients. Investing in portfolio strategy is designed to adapt to changing wealth management needs of the population, creating a rich pool of strategy through a parallel model of “pre-set strategy plus exclusive strategy” that allows product labels to be accurately matched to client portraits The research and development of wealth management agencies in China has been carried out by the Chinese Academy of Social Sciences, the Chinese Academy of Financial Sciences, the Chinese Academy of Management Sciences, the Chinese Academy of Engineering, the Chinese Academy of Social Sciences The wealth management industry has a number of levers it can use to improve its performance and attract capital. The world of wealth management is undergoing a profound change.\n",
      "--------------------------------------------------\n",
      "Total Execution Time: 72.54 seconds\n"
     ]
    }
   ],
   "source": [
    "# Function to summarize the text\n",
    "def summarize_file():\n",
    "    try:\n",
    "        with open(input_file, \"r\", encoding=\"utf-8\") as infile:\n",
    "            raw_text = infile.read()\n",
    "\n",
    "        # Reorganize the text into paragraphs\n",
    "        paragraphs = reorganize_text(raw_text)\n",
    "\n",
    "        # Initialize a list to hold all summaries\n",
    "        all_summaries = []\n",
    "\n",
    "        # Summarize each paragraph\n",
    "        for paragraph in paragraphs:\n",
    "            # Tokenize the input text\n",
    "            inputs = tokenizer_summary(paragraph, return_tensors=\"pt\", max_length=1024, truncation=True)\n",
    "\n",
    "            # Generate the summary\n",
    "            summary_ids = model_summary.generate(\n",
    "                inputs[\"input_ids\"], \n",
    "                max_length=50, \n",
    "                min_length=10, \n",
    "                length_penalty=2.0, \n",
    "                num_beams=4, \n",
    "                early_stopping=True\n",
    "            )\n",
    "\n",
    "            # Decode the summary\n",
    "            summary = tokenizer_summary.decode(summary_ids[0], skip_special_tokens=True)\n",
    "            \n",
    "            # Append the summary to the list\n",
    "            all_summaries.append(summary)\n",
    "\n",
    "        # Combine all summaries into a single piece\n",
    "        combined_summary = \" \".join(all_summaries)\n",
    "\n",
    "        # Print the combined summary\n",
    "        print(\"Combined Summary:\")\n",
    "        print(combined_summary)\n",
    "        print(\"-\" * 50)\n",
    "\n",
    "        # Return the combined summary for further use\n",
    "        return combined_summary\n",
    "\n",
    "    except Exception as e:\n",
    "        print(f\"An error occurred: {e}\")\n",
    "\n",
    "# Measure the execution time using timeit\n",
    "execution_time = timeit.timeit(summarize_file, number=1)\n",
    "print(f\"Total Execution Time: {execution_time:.2f} seconds\")"
   ]
  }
 ],
 "metadata": {
  "kernelspec": {
   "display_name": "esg_venv",
   "language": "python",
   "name": "python3"
  },
  "language_info": {
   "codemirror_mode": {
    "name": "ipython",
    "version": 3
   },
   "file_extension": ".py",
   "mimetype": "text/x-python",
   "name": "python",
   "nbconvert_exporter": "python",
   "pygments_lexer": "ipython3",
   "version": "3.12.4"
  }
 },
 "nbformat": 4,
 "nbformat_minor": 2
}
