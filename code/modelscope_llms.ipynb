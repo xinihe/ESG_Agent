{
 "cells": [
  {
   "cell_type": "code",
   "execution_count": null,
   "metadata": {},
   "outputs": [],
   "source": [
    "from modelscope.pipelines import pipeline\n",
    "from modelscope.utils.constant import Tasks\n",
    "\n",
    "# Define the model name (Ziya-LLaMA-13B for summarization and rewriting)\n",
    "model_name = \"ziya/ziya-llama-13b-summary\"\n",
    "\n",
    "# Load the summarization pipeline\n",
    "summarization_pipeline = pipeline(Tasks.text_summarization, model=model_name)"
   ]
  }
 ],
 "metadata": {
  "language_info": {
   "name": "python"
  }
 },
 "nbformat": 4,
 "nbformat_minor": 2
}
